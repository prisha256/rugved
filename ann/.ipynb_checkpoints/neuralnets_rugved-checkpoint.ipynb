{
 "cells": [
  {
   "cell_type": "code",
   "execution_count": 37,
   "id": "c976230b-331e-4b0f-97b3-2f8348572560",
   "metadata": {},
   "outputs": [],
   "source": [
    "from tensorflow.keras.datasets import mnist\n",
    "import numpy as np\n",
    "(X_train, y_train), (X_test, y_test) = mnist.load_data()"
   ]
  },
  {
   "cell_type": "code",
   "execution_count": 38,
   "id": "0c3fed93-56ea-4684-896f-f6aa7007f649",
   "metadata": {},
   "outputs": [],
   "source": [
    "X_train = X_train / 255.0\n",
    "X_test = X_test / 255.0\n",
    "\n",
    "X_train = X_train.reshape(-1, 28*28)\n",
    "X_test = X_test.reshape(-1, 28*28)"
   ]
  },
  {
   "cell_type": "code",
   "execution_count": 39,
   "id": "b4a31229-8990-4ab0-8201-f37bd7a9acc9",
   "metadata": {},
   "outputs": [],
   "source": [
    "def one_hot_encode(y, num_classes=10):\n",
    "    return np.eye(num_classes)[y]\n",
    "y_train = one_hot_encode(y_train)\n",
    "y_test = one_hot_encode(y_test)"
   ]
  },
  {
   "cell_type": "code",
   "execution_count": 40,
   "id": "9bbd0939-37e3-4990-bccd-56de7ffcb3dc",
   "metadata": {},
   "outputs": [],
   "source": [
    "def initialize_parameters(input_size, hidden_size, output_size):\n",
    "    W1 = np.random.randn(input_size, hidden_size) * np.sqrt(2.0 / input_size)\n",
    "    b1 = np.zeros((1, hidden_size))\n",
    "    W2 = np.random.randn(hidden_size, output_size) * np.sqrt(2.0 / hidden_size)\n",
    "    b2 = np.zeros((1, output_size))\n",
    "    return W1, b1, W2, b2"
   ]
  },
  {
   "cell_type": "code",
   "execution_count": 41,
   "id": "2044bc22-61aa-44b0-a7f8-e106ae8cbeea",
   "metadata": {},
   "outputs": [],
   "source": [
    "def relu(Z):\n",
    "    return np.maximum(0, Z)"
   ]
  },
  {
   "cell_type": "code",
   "execution_count": 42,
   "id": "ad824b68-b7c8-44e1-8c38-3238017d74ab",
   "metadata": {},
   "outputs": [],
   "source": [
    "def softmax(Z):\n",
    "    exp_Z = np.exp(Z - np.max(Z, axis=1, keepdims=True))\n",
    "    return exp_Z / np.sum(exp_Z, axis=1, keepdims=True)"
   ]
  },
  {
   "cell_type": "code",
   "execution_count": 43,
   "id": "dbce7324-85e2-4d21-b3ea-d0d9e7102579",
   "metadata": {},
   "outputs": [],
   "source": [
    "def forward_propagation(X, W1, b1, W2, b2):\n",
    "    Z1 = np.dot(X, W1) + b1\n",
    "    A1 = relu(Z1)\n",
    "    Z2 = np.dot(A1, W2) + b2\n",
    "    A2 = softmax(Z2)\n",
    "    return Z1, A1, Z2, A2"
   ]
  },
  {
   "cell_type": "code",
   "execution_count": 50,
   "id": "f611215c-b59e-4d04-bc07-69e9dffdc704",
   "metadata": {},
   "outputs": [],
   "source": [
    "def backward_propagation(X, y, Z1, A1, Z2, A2, W1, W2, lambda_reg=0.01):\n",
    "    m = X.shape[0]\n",
    "    dZ2 = A2 - y\n",
    "    dW2 = np.dot(A1.T, dZ2) / m + lambda_reg * W2\n",
    "    db2 = np.sum(dZ2, axis=0, keepdims=True) / m\n",
    "    dZ1 = np.dot(dZ2, W2.T) * (Z1 > 0)\n",
    "    dW1 = np.dot(X.T, dZ1) / m + lambda_reg * W1\n",
    "    db1 = np.sum(dZ1, axis=0, keepdims=True) / m\n",
    "    return dW1, db1, dW2, db2"
   ]
  },
  {
   "cell_type": "code",
   "execution_count": 51,
   "id": "07a468d0-d499-42f7-b8a4-6faa0a64f748",
   "metadata": {},
   "outputs": [],
   "source": [
    "def update_parameters(W1, b1, W2, b2, dW1, db1, dW2, db2, learning_rate):\n",
    "    W1 -= learning_rate * dW1\n",
    "    b1 -= learning_rate * db1\n",
    "    W2 -= learning_rate * dW2\n",
    "    b2 -= learning_rate * db2\n",
    "    return W1, b1, W2, b2"
   ]
  },
  {
   "cell_type": "code",
   "execution_count": 54,
   "id": "2b4050d0-862f-400c-8cee-0a64a62072b3",
   "metadata": {},
   "outputs": [],
   "source": [
    "input_size = 784\n",
    "hidden_size = 256\n",
    "output_size = 10\n",
    "learning_rate = 0.06\n",
    "epochs = 150"
   ]
  },
  {
   "cell_type": "code",
   "execution_count": 55,
   "id": "4f96dfe1-7661-49ff-88e1-00ab635d00ab",
   "metadata": {},
   "outputs": [
    {
     "name": "stdout",
     "output_type": "stream",
     "text": [
      "Epoch 0, Accuracy: 0.10598333333333333\n",
      "Epoch 10, Accuracy: 0.5884333333333334\n",
      "Epoch 20, Accuracy: 0.725\n",
      "Epoch 30, Accuracy: 0.7744166666666666\n",
      "Epoch 40, Accuracy: 0.8026166666666666\n",
      "Epoch 50, Accuracy: 0.82155\n",
      "Epoch 60, Accuracy: 0.83505\n",
      "Epoch 70, Accuracy: 0.8442333333333333\n",
      "Epoch 80, Accuracy: 0.8508166666666667\n",
      "Epoch 90, Accuracy: 0.8573\n",
      "Epoch 100, Accuracy: 0.86235\n",
      "Epoch 110, Accuracy: 0.8665166666666667\n",
      "Epoch 120, Accuracy: 0.87025\n",
      "Epoch 130, Accuracy: 0.87295\n",
      "Epoch 140, Accuracy: 0.8755\n"
     ]
    }
   ],
   "source": [
    "W1, b1, W2, b2 = initialize_parameters(input_size, hidden_size, output_size)\n",
    "for epoch in range(epochs):\n",
    "    Z1, A1, Z2, A2 = forward_propagation(X_train, W1, b1, W2, b2)\n",
    "    dW1, db1, dW2, db2 = backward_propagation(X_train, y_train, Z1, A1, Z2, A2, W1, W2)\n",
    "    W1, b1, W2, b2 = update_parameters(W1, b1, W2, b2, dW1, db1, dW2, db2, learning_rate)\n",
    "    if epoch % 10 == 0:\n",
    "        predictions = np.argmax(A2, axis=1)\n",
    "        accuracy = np.mean(predictions == np.argmax(y_train, axis=1))\n",
    "        print(f\"Epoch {epoch}, Accuracy: {accuracy}\")"
   ]
  },
  {
   "cell_type": "code",
   "execution_count": null,
   "id": "bb912fed-10f7-49ba-ad67-3be55c5ee541",
   "metadata": {},
   "outputs": [],
   "source": []
  }
 ],
 "metadata": {
  "kernelspec": {
   "display_name": "Python 3 (ipykernel)",
   "language": "python",
   "name": "python3"
  },
  "language_info": {
   "codemirror_mode": {
    "name": "ipython",
    "version": 3
   },
   "file_extension": ".py",
   "mimetype": "text/x-python",
   "name": "python",
   "nbconvert_exporter": "python",
   "pygments_lexer": "ipython3",
   "version": "3.11.6"
  }
 },
 "nbformat": 4,
 "nbformat_minor": 5
}
