{
 "cells": [
  {
   "cell_type": "code",
   "execution_count": 1,
   "id": "c976230b-331e-4b0f-97b3-2f8348572560",
   "metadata": {},
   "outputs": [],
   "source": [
    "from tensorflow.keras.datasets import mnist\n",
    "import numpy as np\n",
    "(X_train, y_train), (X_test, y_test) = mnist.load_data()"
   ]
  },
  {
   "cell_type": "code",
   "execution_count": 2,
   "id": "0c3fed93-56ea-4684-896f-f6aa7007f649",
   "metadata": {},
   "outputs": [],
   "source": [
    "X_train = X_train / 255.0\n",
    "X_test = X_test / 255.0\n",
    "\n",
    "X_train = X_train.reshape(-1, 28*28)\n",
    "X_test = X_test.reshape(-1, 28*28)"
   ]
  },
  {
   "cell_type": "code",
   "execution_count": 3,
   "id": "b4a31229-8990-4ab0-8201-f37bd7a9acc9",
   "metadata": {},
   "outputs": [],
   "source": [
    "def one_hot_encode(y, num_classes=10):\n",
    "    return np.eye(num_classes)[y]\n",
    "\n",
    "y_train = one_hot_encode(y_train)\n",
    "y_test = one_hot_encode(y_test)"
   ]
  },
  {
   "cell_type": "code",
   "execution_count": 4,
   "id": "9bbd0939-37e3-4990-bccd-56de7ffcb3dc",
   "metadata": {},
   "outputs": [],
   "source": [
    "def initialize_parameters(input_size, hidden_size, output_size):\n",
    "    W1 = np.random.randn(input_size, hidden_size) * np.sqrt(2.0 / input_size)\n",
    "    b1 = np.zeros((1, hidden_size))\n",
    "    W2 = np.random.randn(hidden_size, output_size) * np.sqrt(2.0 / hidden_size)\n",
    "    b2 = np.zeros((1, output_size))\n",
    "    return W1, b1, W2, b2"
   ]
  },
  {
   "cell_type": "code",
   "execution_count": 5,
   "id": "2044bc22-61aa-44b0-a7f8-e106ae8cbeea",
   "metadata": {},
   "outputs": [],
   "source": [
    "def relu(Z):\n",
    "    return np.maximum(0, Z)"
   ]
  },
  {
   "cell_type": "code",
   "execution_count": 6,
   "id": "ad824b68-b7c8-44e1-8c38-3238017d74ab",
   "metadata": {},
   "outputs": [],
   "source": [
    "def softmax(Z):\n",
    "    exp_Z = np.exp(Z - np.max(Z, axis=1, keepdims=True))\n",
    "    return exp_Z / np.sum(exp_Z, axis=1, keepdims=True)"
   ]
  },
  {
   "cell_type": "code",
   "execution_count": 7,
   "id": "dbce7324-85e2-4d21-b3ea-d0d9e7102579",
   "metadata": {},
   "outputs": [],
   "source": [
    "def forward_propagation(X, W1, b1, W2, b2):\n",
    "    Z1 = np.dot(X, W1) + b1\n",
    "    A1 = relu(Z1)\n",
    "    Z2 = np.dot(A1, W2) + b2\n",
    "    A2 = softmax(Z2)\n",
    "    return Z1, A1, Z2, A2"
   ]
  },
  {
   "cell_type": "code",
   "execution_count": 8,
   "id": "f611215c-b59e-4d04-bc07-69e9dffdc704",
   "metadata": {},
   "outputs": [],
   "source": [
    "def backward_propagation(X, y, Z1, A1, Z2, A2, W1, W2, lambda_reg=0.01):\n",
    "    m = X.shape[0]\n",
    "    dZ2 = A2 - y\n",
    "    dW2 = np.dot(A1.T, dZ2) / m + lambda_reg * W2\n",
    "    db2 = np.sum(dZ2, axis=0, keepdims=True) / m\n",
    "    dZ1 = np.dot(dZ2, W2.T) * (Z1 > 0)\n",
    "    dW1 = np.dot(X.T, dZ1) / m + lambda_reg * W1\n",
    "    db1 = np.sum(dZ1, axis=0, keepdims=True) / m\n",
    "    return dW1, db1, dW2, db2"
   ]
  },
  {
   "cell_type": "code",
   "execution_count": 9,
   "id": "07a468d0-d499-42f7-b8a4-6faa0a64f748",
   "metadata": {},
   "outputs": [],
   "source": [
    "def update_parameters(W1, b1, W2, b2, dW1, db1, dW2, db2, learning_rate):\n",
    "    W1 -= learning_rate * dW1\n",
    "    b1 -= learning_rate * db1\n",
    "    W2 -= learning_rate * dW2\n",
    "    b2 -= learning_rate * db2\n",
    "    return W1, b1, W2, b2"
   ]
  },
  {
   "cell_type": "code",
   "execution_count": 10,
   "id": "2b4050d0-862f-400c-8cee-0a64a62072b3",
   "metadata": {},
   "outputs": [],
   "source": [
    "input_size = 784\n",
    "hidden_size = 256\n",
    "output_size = 10\n",
    "learning_rate = 0.06\n",
    "epochs = 150"
   ]
  },
  {
   "cell_type": "code",
   "execution_count": 12,
   "id": "71b5d09e-3065-47fe-a45f-daf4fb9f119c",
   "metadata": {},
   "outputs": [],
   "source": [
    "def create_mini_batches(X, y, batch_size=128):\n",
    "    indices = np.arange(X.shape[0])\n",
    "    np.random.shuffle(indices)\n",
    "    X_shuffled = X[indices]\n",
    "    y_shuffled = y[indices]\n",
    "    for i in range(0, X.shape[0], batch_size):\n",
    "        yield X_shuffled[i:i+batch_size], y_shuffled[i:i+batch_size]"
   ]
  },
  {
   "cell_type": "code",
   "execution_count": 14,
   "id": "c0bfc4d3-68c5-4926-9cdf-a500cf4c5252",
   "metadata": {},
   "outputs": [],
   "source": [
    "def compute_accuracy(X, y, W1, b1, W2, b2, batch_size=128):\n",
    "    correct = 0\n",
    "    total = 0\n",
    "    for X_batch, y_batch in create_mini_batches(X, y, batch_size):\n",
    "        _, _, _, A2 = forward_propagation(X_batch, W1, b1, W2, b2)\n",
    "        predictions = np.argmax(A2, axis=1)\n",
    "        labels = np.argmax(y_batch, axis=1)\n",
    "        correct += np.sum(predictions == labels)\n",
    "        total += y_batch.shape[0]\n",
    "    return correct / total"
   ]
  },
  {
   "cell_type": "code",
   "execution_count": 16,
   "id": "4f96dfe1-7661-49ff-88e1-00ab635d00ab",
   "metadata": {},
   "outputs": [
    {
     "name": "stdout",
     "output_type": "stream",
     "text": [
      "Epoch 0, Train Accuracy: 0.9024\n",
      "Epoch 10, Train Accuracy: 0.9339\n",
      "Epoch 20, Train Accuracy: 0.9375\n",
      "Epoch 30, Train Accuracy: 0.9372\n",
      "Epoch 40, Train Accuracy: 0.9373\n",
      "Epoch 50, Train Accuracy: 0.9400\n",
      "Epoch 60, Train Accuracy: 0.9402\n",
      "Epoch 70, Train Accuracy: 0.9408\n",
      "Epoch 80, Train Accuracy: 0.9401\n",
      "Epoch 90, Train Accuracy: 0.9412\n",
      "Epoch 100, Train Accuracy: 0.9408\n",
      "Epoch 110, Train Accuracy: 0.9404\n",
      "Epoch 120, Train Accuracy: 0.9415\n",
      "Epoch 130, Train Accuracy: 0.9404\n",
      "Epoch 140, Train Accuracy: 0.9408\n"
     ]
    }
   ],
   "source": [
    "W1, b1, W2, b2 = initialize_parameters(input_size, hidden_size, output_size)\n",
    "batch_size = 128 \n",
    "for epoch in range(epochs):\n",
    "    for X_batch, y_batch in create_mini_batches(X_train, y_train, batch_size):\n",
    "        Z1, A1, Z2, A2 = forward_propagation(X_batch, W1, b1, W2, b2)\n",
    "        dW1, db1, dW2, db2 = backward_propagation(X_batch, y_batch, Z1, A1, Z2, A2, W1, W2)\n",
    "        W1, b1, W2, b2 = update_parameters(W1, b1, W2, b2, dW1, db1, dW2, db2, learning_rate)\n",
    "\n",
    "    if epoch % 10 == 0:\n",
    "        train_accuracy = compute_accuracy(X_train, y_train, W1, b1, W2, b2, batch_size)\n",
    "        print(f\"Epoch {epoch}, Train Accuracy: {train_accuracy:.4f}\")"
   ]
  },
  {
   "cell_type": "code",
   "execution_count": 17,
   "id": "bb912fed-10f7-49ba-ad67-3be55c5ee541",
   "metadata": {},
   "outputs": [
    {
     "name": "stdout",
     "output_type": "stream",
     "text": [
      "\n",
      "Final Test Accuracy: 0.9418\n"
     ]
    }
   ],
   "source": [
    "test_accuracy = compute_accuracy(X_test, y_test, W1, b1, W2, b2, batch_size)\n",
    "print(f\"\\nFinal Test Accuracy: {test_accuracy:.4f}\")"
   ]
  },
  {
   "cell_type": "code",
   "execution_count": null,
   "id": "a3f901fb-0038-4715-940c-a786cf5e1857",
   "metadata": {},
   "outputs": [],
   "source": []
  }
 ],
 "metadata": {
  "kernelspec": {
   "display_name": "Python 3 (ipykernel)",
   "language": "python",
   "name": "python3"
  },
  "language_info": {
   "codemirror_mode": {
    "name": "ipython",
    "version": 3
   },
   "file_extension": ".py",
   "mimetype": "text/x-python",
   "name": "python",
   "nbconvert_exporter": "python",
   "pygments_lexer": "ipython3",
   "version": "3.11.6"
  }
 },
 "nbformat": 4,
 "nbformat_minor": 5
}
