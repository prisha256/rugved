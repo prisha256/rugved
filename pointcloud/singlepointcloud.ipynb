{
 "cells": [
  {
   "cell_type": "code",
   "execution_count": 9,
   "id": "9424038b-7f33-416f-b3b0-c4f27f927e55",
   "metadata": {},
   "outputs": [],
   "source": [
    "import open3d as o3d\n",
    "import numpy as np\n",
    "import os\n",
    "\n",
    "# Path to the directory with RGB-D images\n",
    "folder = r\"D:\\prisha_manipal_sp\\sp_rugved\\desk_2\\rgbd-scenes\\desk\\desk_2\"\n",
    "\n",
    "# Intrinsics (can be updated if you have actual camera intrinsics)\n",
    "intrinsic = o3d.camera.PinholeCameraIntrinsic(\n",
    "    o3d.camera.PinholeCameraIntrinsicParameters.PrimeSenseDefault\n",
    ")"
   ]
  },
  {
   "cell_type": "code",
   "execution_count": 10,
   "id": "88f4c796-996d-4fd1-b5a6-4d2a1840d41d",
   "metadata": {},
   "outputs": [],
   "source": [
    "# Combine all point clouds\n",
    "combined_pcd = o3d.geometry.PointCloud()\n",
    "\n",
    "for i in range(40, 45):  # 40 to 44 inclusive\n",
    "    color_path = os.path.join(folder, f\"desk_2_{i}.png\")\n",
    "    depth_path = os.path.join(folder, f\"desk_2_{i}_depth.png\")\n",
    "\n",
    "    # Load RGB-D image\n",
    "    color = o3d.io.read_image(color_path)\n",
    "    depth = o3d.io.read_image(depth_path)\n",
    "\n",
    "    rgbd = o3d.geometry.RGBDImage.create_from_color_and_depth(\n",
    "        color, depth, convert_rgb_to_intensity=False\n",
    "    )\n",
    "\n",
    "    # Create point cloud from RGB-D\n",
    "    pcd = o3d.geometry.PointCloud.create_from_rgbd_image(rgbd, intrinsic)\n",
    "\n",
    "    # Flip coordinate system\n",
    "    pcd.transform([[1, 0, 0, 0],\n",
    "                   [0, -1, 0, 0],\n",
    "                   [0, 0, -1, 0],\n",
    "                   [0, 0, 0, 1]])\n",
    "\n",
    "    # Append to the combined cloud\n",
    "    combined_pcd += pcd.voxel_down_sample(voxel_size=0.005)"
   ]
  },
  {
   "cell_type": "code",
   "execution_count": 14,
   "id": "318fd19c-5644-4801-a772-c052b288372b",
   "metadata": {},
   "outputs": [],
   "source": [
    "# Denoise final point cloud\n",
    "combined_pcd, _ = combined_pcd.remove_statistical_outlier(nb_neighbors=20, std_ratio=2.0)\n",
    "\n",
    "# Visualize\n",
    "o3d.visualization.draw_geometries([combined_pcd])"
   ]
  },
  {
   "cell_type": "code",
   "execution_count": null,
   "id": "f70c79f9-e31c-4c80-9768-3c3eab9c419c",
   "metadata": {},
   "outputs": [],
   "source": []
  }
 ],
 "metadata": {
  "kernelspec": {
   "display_name": "Python 3 (ipykernel)",
   "language": "python",
   "name": "python3"
  },
  "language_info": {
   "codemirror_mode": {
    "name": "ipython",
    "version": 3
   },
   "file_extension": ".py",
   "mimetype": "text/x-python",
   "name": "python",
   "nbconvert_exporter": "python",
   "pygments_lexer": "ipython3",
   "version": "3.11.6"
  }
 },
 "nbformat": 4,
 "nbformat_minor": 5
}
